{
 "cells": [
  {
   "cell_type": "code",
   "execution_count": 1,
   "id": "278d2117-f69d-46a7-a421-1ee0564d3746",
   "metadata": {
    "scrolled": true
   },
   "outputs": [],
   "source": [
    "import pandas as pd\n",
    "import matplotlib.pyplot as plt\n",
    "from bs4 import BeautifulSoup\n",
    "import requests\n",
    "# My aim here is to calculate the distribution of words in the Game of Thrones wiki\n",
    "# I will use BeautifulSoup to scrape the site and all of its urls\n",
    "# I will then use pandas DataFrames to store all of the data\n",
    "# To plot and analyze, I use the matplotlib library\n",
    "\n",
    "# This array will store the urls, and it starts with the initial url of the wiki page\n",
    "urls = {\"https://gameofthrones.fandom.com/wiki/Game_of_Thrones\"}\n",
    "\n",
    "response = requests.get(\"https://gameofthrones.fandom.com/wiki/Game_of_Thrones\")\n",
    "\n",
    "soup = BeautifulSoup(response.text,'html.parser')\n",
    "\n",
    "for a in soup.find_all('a',attrs={\"data-tracking\": True}):\n",
    "    href = a.get('href')  # Extract URL\n",
    "    if href and href.startswith(\"https://gameofthrones.fandom.com/wiki/\"):  # Filter relevant wiki pages\n",
    "        urls.add(href)\n",
    "\n",
    "urls2 = urls.copy()\n",
    "\n",
    "'''for url in urls:\n",
    "    response = requests.get(url)\n",
    "\n",
    "    soup = BeautifulSoup(response.text,'html.parser')\n",
    "\n",
    "    for a in soup.find_all('a',attrs={\"data-tracking\": True}):\n",
    "        href = a.get('href')  # Extract URL\n",
    "        if href and href.startswith(\"https://gameofthrones.fandom.com/wiki/\"):  # Filter relevant wiki pages\n",
    "            urls2.add(href)\n",
    "'''\n",
    "urls=list(urls2)"
   ]
  },
  {
   "cell_type": "markdown",
   "id": "23edbfeb",
   "metadata": {},
   "source": [
    "Now we will actually grab all of the words of of each URL. This will be achieved by, for each URL, checking each <p> tag's text, and using a dictionary to keep track of frequency. We again use Beautiful Soup to parse, and using string operations to clean up our data."
   ]
  },
  {
   "cell_type": "code",
   "execution_count": 2,
   "id": "a48d69d9-59a6-409c-b94a-51d7e648c75f",
   "metadata": {
    "scrolled": true
   },
   "outputs": [],
   "source": [
    "from collections import defaultdict\n",
    "\n",
    "word_dictionary = defaultdict(int)\n",
    "url = urls[0]\n",
    "\n",
    "for url in urls:\n",
    "    response = requests.get(url)\n",
    "    soup = BeautifulSoup(response.text,'html.parser')\n",
    "    words = soup.find_all(\"p\")      # use BS method find_all to search through paragraphs\n",
    "    for group in words:\n",
    "        wordlist = group.text.lower().split()   # use string manipulation to grab words into a list\n",
    "        for word in wordlist:   #loop through all words in our list\n",
    "            word_dictionary[word]+=1    # increment"
   ]
  },
  {
   "cell_type": "markdown",
   "id": "36e9cd53",
   "metadata": {},
   "source": [
    "We now have our dictionary and would like it sorted, in descending order, by frequency."
   ]
  },
  {
   "cell_type": "code",
   "execution_count": null,
   "id": "7ebe06e3",
   "metadata": {},
   "outputs": [],
   "source": [
    "# Sorting the dictionary by value in descending order\n",
    "word_dictionary = dict(sorted(word_dictionary.items(), key=lambda item: item[1], reverse=True))\n",
    "# Print our dictionary\n",
    "print(word_dictionary)"
   ]
  },
  {
   "cell_type": "markdown",
   "id": "1a0db768",
   "metadata": {},
   "source": [
    "Perhaps unsurprisingly, \"the\" is the most common word on the site. Our third most common word is '.', which we do not want to include, so, along with some other characters, I will drop."
   ]
  },
  {
   "cell_type": "code",
   "execution_count": null,
   "id": "48bf55cf-7cd4-4d74-bacf-dc778ec1be36",
   "metadata": {},
   "outputs": [],
   "source": [
    "del word_dictionary['·']\n",
    "print(word_dictionary)"
   ]
  },
  {
   "cell_type": "code",
   "execution_count": null,
   "id": "50aa3228",
   "metadata": {},
   "outputs": [],
   "source": [
    "# Number of elements to plot\n",
    "n = 5  # Change this to plot more/fewer elements\n",
    "\n",
    "# Slicing first n elements\n",
    "keys = list(word_dictionary.keys())[:n]\n",
    "values = list(word_dictionary.values())[:n]\n",
    "\n",
    "# Plot\n",
    "plt.bar(keys, values)\n",
    "plt.xlabel(\"Keys\")\n",
    "plt.ylabel(\"Values\")\n",
    "plt.title(f\"First {n} Elements of Dictionary\")\n",
    "plt.show()"
   ]
  }
 ],
 "metadata": {
  "kernelspec": {
   "display_name": "base",
   "language": "python",
   "name": "python3"
  },
  "language_info": {
   "codemirror_mode": {
    "name": "ipython",
    "version": 3
   },
   "file_extension": ".py",
   "mimetype": "text/x-python",
   "name": "python",
   "nbconvert_exporter": "python",
   "pygments_lexer": "ipython3",
   "version": "3.12.7"
  }
 },
 "nbformat": 4,
 "nbformat_minor": 5
}
